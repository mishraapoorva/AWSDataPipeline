{
  "nbformat": 4,
  "nbformat_minor": 0,
  "metadata": {
    "colab": {
      "name": "AnalyticsNotebook.ipynb",
      "provenance": [],
      "collapsed_sections": []
    },
    "kernelspec": {
      "name": "python3",
      "display_name": "Python 3"
    },
    "language_info": {
      "name": "python"
    }
  },
  "cells": [
    {
      "cell_type": "code",
      "metadata": {
        "id": "NlmQz_nAkHGj"
      },
      "source": [
        "import pandas as pd\n",
        "import urllib3\n",
        "import json\n",
        "import requests\n",
        "from io import StringIO"
      ],
      "execution_count": 1,
      "outputs": []
    },
    {
      "cell_type": "code",
      "metadata": {
        "colab": {
          "base_uri": "https://localhost:8080/",
          "height": 206
        },
        "id": "gsxjqoVetLau",
        "outputId": "2af37558-b88e-45f1-d242-9d74f4d61034"
      },
      "source": [
        "\"\"\"\n",
        "PART0:\n",
        "Read csv data from pr.data.0.Current from url\n",
        "\"\"\"\n",
        "\n",
        "url = \"https://download.bls.gov/pub/time.series/pr/pr.data.0.Current\"\n",
        "s = requests.get(url).content\n",
        "time_series_csv_df = pd.read_csv((StringIO(s.decode('utf-8'))), sep='\\t')\n",
        "\n",
        "time_series_csv_df.head()"
      ],
      "execution_count": 2,
      "outputs": [
        {
          "output_type": "execute_result",
          "data": {
            "text/html": [
              "<div>\n",
              "<style scoped>\n",
              "    .dataframe tbody tr th:only-of-type {\n",
              "        vertical-align: middle;\n",
              "    }\n",
              "\n",
              "    .dataframe tbody tr th {\n",
              "        vertical-align: top;\n",
              "    }\n",
              "\n",
              "    .dataframe thead th {\n",
              "        text-align: right;\n",
              "    }\n",
              "</style>\n",
              "<table border=\"1\" class=\"dataframe\">\n",
              "  <thead>\n",
              "    <tr style=\"text-align: right;\">\n",
              "      <th></th>\n",
              "      <th>series_id</th>\n",
              "      <th>year</th>\n",
              "      <th>period</th>\n",
              "      <th>value</th>\n",
              "      <th>footnote_codes</th>\n",
              "    </tr>\n",
              "  </thead>\n",
              "  <tbody>\n",
              "    <tr>\n",
              "      <th>0</th>\n",
              "      <td>PRS30006011</td>\n",
              "      <td>1995</td>\n",
              "      <td>Q01</td>\n",
              "      <td>2.6</td>\n",
              "      <td>NaN</td>\n",
              "    </tr>\n",
              "    <tr>\n",
              "      <th>1</th>\n",
              "      <td>PRS30006011</td>\n",
              "      <td>1995</td>\n",
              "      <td>Q02</td>\n",
              "      <td>2.1</td>\n",
              "      <td>NaN</td>\n",
              "    </tr>\n",
              "    <tr>\n",
              "      <th>2</th>\n",
              "      <td>PRS30006011</td>\n",
              "      <td>1995</td>\n",
              "      <td>Q03</td>\n",
              "      <td>0.9</td>\n",
              "      <td>NaN</td>\n",
              "    </tr>\n",
              "    <tr>\n",
              "      <th>3</th>\n",
              "      <td>PRS30006011</td>\n",
              "      <td>1995</td>\n",
              "      <td>Q04</td>\n",
              "      <td>0.1</td>\n",
              "      <td>NaN</td>\n",
              "    </tr>\n",
              "    <tr>\n",
              "      <th>4</th>\n",
              "      <td>PRS30006011</td>\n",
              "      <td>1995</td>\n",
              "      <td>Q05</td>\n",
              "      <td>1.4</td>\n",
              "      <td>NaN</td>\n",
              "    </tr>\n",
              "  </tbody>\n",
              "</table>\n",
              "</div>"
            ],
            "text/plain": [
              "   series_id          year period         value footnote_codes\n",
              "0  PRS30006011        1995    Q01           2.6            NaN\n",
              "1  PRS30006011        1995    Q02           2.1            NaN\n",
              "2  PRS30006011        1995    Q03           0.9            NaN\n",
              "3  PRS30006011        1995    Q04           0.1            NaN\n",
              "4  PRS30006011        1995    Q05           1.4            NaN"
            ]
          },
          "metadata": {},
          "execution_count": 2
        }
      ]
    },
    {
      "cell_type": "code",
      "metadata": {
        "colab": {
          "base_uri": "https://localhost:8080/",
          "height": 261
        },
        "id": "tcVwpBKltaxa",
        "outputId": "37eed868-c5bc-4e51-869b-b50354accfc3"
      },
      "source": [
        "\"\"\"\n",
        "PART0:\n",
        "Read json data from the given API \n",
        "\"\"\"\n",
        "\n",
        "http = urllib3.PoolManager()\n",
        "r = http.request('GET', 'https://datausa.io/api/data?drilldowns=Nation&measures=Population')\n",
        "#print (r.data.decode('UTF-8'))\n",
        "\n",
        "population_json = json.loads(r.data.decode('UTF-8'))\n",
        "temp_data =  population_json[\"data\"]\n",
        "population_df = pd.DataFrame(temp_data)\n",
        "\n",
        "population_df.head()"
      ],
      "execution_count": 3,
      "outputs": [
        {
          "output_type": "stream",
          "name": "stderr",
          "text": [
            "/usr/local/lib/python3.7/dist-packages/urllib3/connectionpool.py:847: InsecureRequestWarning: Unverified HTTPS request is being made. Adding certificate verification is strongly advised. See: https://urllib3.readthedocs.io/en/latest/advanced-usage.html#ssl-warnings\n",
            "  InsecureRequestWarning)\n"
          ]
        },
        {
          "output_type": "execute_result",
          "data": {
            "text/html": [
              "<div>\n",
              "<style scoped>\n",
              "    .dataframe tbody tr th:only-of-type {\n",
              "        vertical-align: middle;\n",
              "    }\n",
              "\n",
              "    .dataframe tbody tr th {\n",
              "        vertical-align: top;\n",
              "    }\n",
              "\n",
              "    .dataframe thead th {\n",
              "        text-align: right;\n",
              "    }\n",
              "</style>\n",
              "<table border=\"1\" class=\"dataframe\">\n",
              "  <thead>\n",
              "    <tr style=\"text-align: right;\">\n",
              "      <th></th>\n",
              "      <th>ID Nation</th>\n",
              "      <th>Nation</th>\n",
              "      <th>ID Year</th>\n",
              "      <th>Year</th>\n",
              "      <th>Population</th>\n",
              "      <th>Slug Nation</th>\n",
              "    </tr>\n",
              "  </thead>\n",
              "  <tbody>\n",
              "    <tr>\n",
              "      <th>0</th>\n",
              "      <td>01000US</td>\n",
              "      <td>United States</td>\n",
              "      <td>2019</td>\n",
              "      <td>2019</td>\n",
              "      <td>328239523</td>\n",
              "      <td>united-states</td>\n",
              "    </tr>\n",
              "    <tr>\n",
              "      <th>1</th>\n",
              "      <td>01000US</td>\n",
              "      <td>United States</td>\n",
              "      <td>2018</td>\n",
              "      <td>2018</td>\n",
              "      <td>327167439</td>\n",
              "      <td>united-states</td>\n",
              "    </tr>\n",
              "    <tr>\n",
              "      <th>2</th>\n",
              "      <td>01000US</td>\n",
              "      <td>United States</td>\n",
              "      <td>2017</td>\n",
              "      <td>2017</td>\n",
              "      <td>325719178</td>\n",
              "      <td>united-states</td>\n",
              "    </tr>\n",
              "    <tr>\n",
              "      <th>3</th>\n",
              "      <td>01000US</td>\n",
              "      <td>United States</td>\n",
              "      <td>2016</td>\n",
              "      <td>2016</td>\n",
              "      <td>323127515</td>\n",
              "      <td>united-states</td>\n",
              "    </tr>\n",
              "    <tr>\n",
              "      <th>4</th>\n",
              "      <td>01000US</td>\n",
              "      <td>United States</td>\n",
              "      <td>2015</td>\n",
              "      <td>2015</td>\n",
              "      <td>321418821</td>\n",
              "      <td>united-states</td>\n",
              "    </tr>\n",
              "  </tbody>\n",
              "</table>\n",
              "</div>"
            ],
            "text/plain": [
              "  ID Nation         Nation  ID Year  Year  Population    Slug Nation\n",
              "0   01000US  United States     2019  2019   328239523  united-states\n",
              "1   01000US  United States     2018  2018   327167439  united-states\n",
              "2   01000US  United States     2017  2017   325719178  united-states\n",
              "3   01000US  United States     2016  2016   323127515  united-states\n",
              "4   01000US  United States     2015  2015   321418821  united-states"
            ]
          },
          "metadata": {},
          "execution_count": 3
        }
      ]
    },
    {
      "cell_type": "code",
      "metadata": {
        "colab": {
          "base_uri": "https://localhost:8080/"
        },
        "id": "2RkZfMhKtTCd",
        "outputId": "43ac5ddc-a84b-4e17-993f-4e730d3b2d8a"
      },
      "source": [
        "\"\"\"\n",
        "PART1:\n",
        "Using the dataframe from the population data API (Part 2), generate the mean and\n",
        "the standard deviation of the US population across the years [2013, 2018] inclusive.\n",
        "\n",
        "\"\"\"\n",
        "std_json_data = population_df['Population'].std()\n",
        "mean_json_data = population_df['Population'].mean()\n",
        "# print('Standard Deviation: ' + std_json_data)\n",
        "# print('Mean: ' + mean_json_data)\n",
        "print(std_json_data)\n",
        "print(mean_json_data)\n"
      ],
      "execution_count": 5,
      "outputs": [
        {
          "output_type": "stream",
          "name": "stdout",
          "text": [
            "4455158.63450706\n",
            "322951195.85714287\n"
          ]
        }
      ]
    },
    {
      "cell_type": "code",
      "metadata": {
        "colab": {
          "base_uri": "https://localhost:8080/",
          "height": 744
        },
        "id": "W0Dj3LLetgtj",
        "outputId": "2a0cb54e-f036-4e08-c245-264e9755b934"
      },
      "source": [
        "\"\"\"\n",
        "PART 2:\n",
        "Using the dataframe from the time-series (Part 1), For every series_id, find the \n",
        "best year: the year with the max/largest sum of \"value\" for all quarters in \n",
        "that year. Generate a report with each series id, the best year for that series,\n",
        "and the summed value for that year. For example, if the table had the following values:\n",
        "\"\"\"\n",
        "\n",
        "time_series_csv_df.columns = time_series_csv_df.columns.str.strip()\n",
        "time_series_csv_df_grouped = time_series_csv_df.groupby(['series_id','year']).agg({'value': 'sum'}).reset_index()\n",
        "#print(time_series_csv_df_grouped.head(30)) \n",
        "result = time_series_csv_df_grouped.groupby(['series_id'], as_index=False)['value'].max().rename(columns={'value': 'value'})\n",
        "final_result = time_series_csv_df_grouped.merge(result, on=['series_id', 'value'])\n",
        "#print(final_result)\n",
        "final_result.head()\n"
      ],
      "execution_count": 6,
      "outputs": [
        {
          "output_type": "stream",
          "name": "stdout",
          "text": [
            "            series_id  year  value\n",
            "0   PRS30006011        1995    7.1\n",
            "1   PRS30006011        1996   -0.5\n",
            "2   PRS30006011        1997    4.4\n",
            "3   PRS30006011        1998    4.2\n",
            "4   PRS30006011        1999   -7.7\n",
            "5   PRS30006011        2000   -1.3\n",
            "6   PRS30006011        2001  -23.3\n",
            "7   PRS30006011        2002  -36.0\n",
            "8   PRS30006011        2003  -23.4\n",
            "9   PRS30006011        2004   -6.8\n",
            "10  PRS30006011        2005   -2.5\n",
            "11  PRS30006011        2006   -2.9\n",
            "12  PRS30006011        2007   -8.5\n",
            "13  PRS30006011        2008  -17.9\n",
            "14  PRS30006011        2009  -56.3\n",
            "15  PRS30006011        2010  -13.7\n",
            "16  PRS30006011        2011    6.7\n",
            "17  PRS30006011        2012    9.5\n",
            "18  PRS30006011        2013    3.0\n",
            "19  PRS30006011        2014    6.6\n",
            "20  PRS30006011        2015    6.2\n",
            "21  PRS30006011        2016   -0.1\n",
            "22  PRS30006011        2017    4.6\n",
            "23  PRS30006011        2018    8.1\n",
            "24  PRS30006011        2019    5.3\n",
            "25  PRS30006011        2020  -24.7\n",
            "26  PRS30006011        2021    1.0\n",
            "27  PRS30006012        1995    1.8\n",
            "28  PRS30006012        1996    0.6\n",
            "29  PRS30006012        1997    6.8\n"
          ]
        },
        {
          "output_type": "execute_result",
          "data": {
            "text/html": [
              "<div>\n",
              "<style scoped>\n",
              "    .dataframe tbody tr th:only-of-type {\n",
              "        vertical-align: middle;\n",
              "    }\n",
              "\n",
              "    .dataframe tbody tr th {\n",
              "        vertical-align: top;\n",
              "    }\n",
              "\n",
              "    .dataframe thead th {\n",
              "        text-align: right;\n",
              "    }\n",
              "</style>\n",
              "<table border=\"1\" class=\"dataframe\">\n",
              "  <thead>\n",
              "    <tr style=\"text-align: right;\">\n",
              "      <th></th>\n",
              "      <th>series_id</th>\n",
              "      <th>year</th>\n",
              "      <th>value</th>\n",
              "    </tr>\n",
              "  </thead>\n",
              "  <tbody>\n",
              "    <tr>\n",
              "      <th>0</th>\n",
              "      <td>PRS30006011</td>\n",
              "      <td>2012</td>\n",
              "      <td>9.50</td>\n",
              "    </tr>\n",
              "    <tr>\n",
              "      <th>1</th>\n",
              "      <td>PRS30006012</td>\n",
              "      <td>2014</td>\n",
              "      <td>8.80</td>\n",
              "    </tr>\n",
              "    <tr>\n",
              "      <th>2</th>\n",
              "      <td>PRS30006013</td>\n",
              "      <td>1998</td>\n",
              "      <td>733.29</td>\n",
              "    </tr>\n",
              "    <tr>\n",
              "      <th>3</th>\n",
              "      <td>PRS30006021</td>\n",
              "      <td>2010</td>\n",
              "      <td>14.20</td>\n",
              "    </tr>\n",
              "    <tr>\n",
              "      <th>4</th>\n",
              "      <td>PRS30006022</td>\n",
              "      <td>2010</td>\n",
              "      <td>11.20</td>\n",
              "    </tr>\n",
              "  </tbody>\n",
              "</table>\n",
              "</div>"
            ],
            "text/plain": [
              "           series_id  year   value\n",
              "0  PRS30006011        2012    9.50\n",
              "1  PRS30006012        2014    8.80\n",
              "2  PRS30006013        1998  733.29\n",
              "3  PRS30006021        2010   14.20\n",
              "4  PRS30006022        2010   11.20"
            ]
          },
          "metadata": {},
          "execution_count": 6
        }
      ]
    },
    {
      "cell_type": "code",
      "metadata": {
        "id": "OLF59VQcvXz-"
      },
      "source": [
        "population_df = population_df.rename(columns={'Year': 'year'})\n",
        "population_df['year']=population_df['year'].astype(int)"
      ],
      "execution_count": 7,
      "outputs": []
    },
    {
      "cell_type": "code",
      "metadata": {
        "colab": {
          "base_uri": "https://localhost:8080/"
        },
        "id": "MkFxtOvkvFeQ",
        "outputId": "f68c37df-3cb4-4f0e-87a1-2f38a78aaca6"
      },
      "source": [
        "\"\"\"\n",
        "PART 3:\n",
        "Using both dataframes from Part 1 and Part 2, generate a report that will provide \n",
        "the value for series_id = PRS30006032 and period = Q01 and the population for \n",
        "that given year (if available in the population dataset)\n",
        "\"\"\"\n",
        "\n",
        "clubbed_df = time_series_csv_df.merge(population_df, on=['year'])\n",
        "clubbed_df.drop(['footnote_codes', 'ID Nation','Nation', 'ID Year', 'Slug Nation'], axis=1, inplace=True)\n",
        "print(clubbed_df.head()) \n",
        "\n"
      ],
      "execution_count": 8,
      "outputs": [
        {
          "output_type": "stream",
          "name": "stdout",
          "text": [
            "           series_id  year period  value  Population\n",
            "0  PRS30006011        2013    Q01    1.3   316128839\n",
            "1  PRS30006011        2013    Q02    0.2   316128839\n",
            "2  PRS30006011        2013    Q03    0.2   316128839\n",
            "3  PRS30006011        2013    Q04    0.7   316128839\n",
            "4  PRS30006011        2013    Q05    0.6   316128839\n"
          ]
        }
      ]
    }
  ]
}